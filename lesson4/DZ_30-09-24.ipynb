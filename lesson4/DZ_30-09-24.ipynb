{
 "cells": [
  {
   "cell_type": "code",
   "execution_count": 13,
   "id": "758957d2-8f47-4882-b4c2-8262764d959e",
   "metadata": {},
   "outputs": [
    {
     "name": "stdout",
     "output_type": "stream",
     "text": [
      ". . . . . . . . . . \n",
      ". . . . . . . . . . \n",
      ". . . . . . . . . . \n",
      ". . . . . . . . . . \n",
      ". . . . . . . . . . \n",
      ". . . . . . . . . . \n",
      ". . . . . . . . . . \n",
      ". . . . . . . . . . \n",
      ". . . . . . . . . . \n",
      ". . . . . . . . . . \n"
     ]
    }
   ],
   "source": [
    "#есеп 1\n",
    "#нестед цикл (цикл ішіндегі цикл) колданып экранга 10 да 10 нуктелер шыгарыныз.\n",
    "for x in range (10):\n",
    "    for i in range (10):\n",
    "        print ('.', end=' ')\n",
    "    print()\n",
    "    "
   ]
  },
  {
   "cell_type": "code",
   "execution_count": 81,
   "id": "f056d2e3-d921-40d8-a94f-9c050bd404b2",
   "metadata": {},
   "outputs": [
    {
     "name": "stdout",
     "output_type": "stream",
     "text": [
      ".\n",
      ".\n",
      ".\n",
      ".\n",
      ".\n",
      ".\n",
      ".\n",
      ".\n",
      ".\n",
      ".\n",
      ".\n",
      ".\n",
      ".\n",
      ".\n",
      ".\n",
      ".\n",
      ".\n",
      ".\n",
      ".\n",
      ".\n"
     ]
    }
   ],
   "source": [
    "import random\n",
    "x=random.randint(1,10)\n",
    "y=random.randint(1,10)\n",
    "\n",
    "for i  in range (10):\n",
    "    if i==x and i==y:\n",
    "        print('@')\n",
    "    else:\n",
    "        print('.')\n",
    "for j in range (10):\n",
    "    if j==x and j==y:\n",
    "        print('@')\n",
    "    else:\n",
    "        print('.')"
   ]
  },
  {
   "cell_type": "code",
   "execution_count": null,
   "id": "f0502fdf-5e98-4347-b2b4-5f93a205fdbe",
   "metadata": {},
   "outputs": [
    {
     "name": "stdout",
     "output_type": "stream",
     "text": [
      "A . . . . \n",
      ". . . . . \n",
      ". . . . . \n",
      ". . . . . \n",
      ". . . . . \n"
     ]
    },
    {
     "name": "stdin",
     "output_type": "stream",
     "text": [
      "w, a, s, d =  s\n"
     ]
    },
    {
     "name": "stdout",
     "output_type": "stream",
     "text": [
      ". . . . . \n",
      "A . . . . \n",
      ". . . . . \n",
      ". . . . . \n",
      ". . . . . \n"
     ]
    },
    {
     "name": "stdin",
     "output_type": "stream",
     "text": [
      "w, a, s, d =  s\n"
     ]
    },
    {
     "name": "stdout",
     "output_type": "stream",
     "text": [
      ". . . . . \n",
      ". . . . . \n",
      "A . . . . \n",
      ". . . . . \n",
      ". . . . . \n"
     ]
    },
    {
     "name": "stdin",
     "output_type": "stream",
     "text": [
      "w, a, s, d =  d\n"
     ]
    },
    {
     "name": "stdout",
     "output_type": "stream",
     "text": [
      ". . . . . \n",
      ". . . . . \n",
      ". A . . . \n",
      ". . . . . \n",
      ". . . . . \n"
     ]
    },
    {
     "name": "stdin",
     "output_type": "stream",
     "text": [
      "w, a, s, d =  d\n"
     ]
    },
    {
     "name": "stdout",
     "output_type": "stream",
     "text": [
      ". . . . . \n",
      ". . . . . \n",
      ". . A . . \n",
      ". . . . . \n",
      ". . . . . \n"
     ]
    },
    {
     "name": "stdin",
     "output_type": "stream",
     "text": [
      "w, a, s, d =  a\n"
     ]
    },
    {
     "name": "stdout",
     "output_type": "stream",
     "text": [
      ". . . . . \n",
      ". . . . . \n",
      ". A . . . \n",
      ". . . . . \n",
      ". . . . . \n"
     ]
    },
    {
     "name": "stdin",
     "output_type": "stream",
     "text": [
      "w, a, s, d =  a\n"
     ]
    },
    {
     "name": "stdout",
     "output_type": "stream",
     "text": [
      ". . . . . \n",
      ". . . . . \n",
      "A . . . . \n",
      ". . . . . \n",
      ". . . . . \n"
     ]
    }
   ],
   "source": [
    "\n",
    "xy = [0, 0]\n",
    "for i in range(5):\n",
    "    for j in range(5):\n",
    "        if xy[0] == i and xy[1] == j:\n",
    "            print('A', end=' ')\n",
    "        else:\n",
    "            print('.', end=' ')\n",
    "            \n",
    "    print()\n",
    "\n",
    "while True:\n",
    "    x = input('w, a, s, d = ')\n",
    "    if x == 'd':\n",
    "        xy[1] += 1\n",
    "    elif x == 's':\n",
    "        xy[0] += 1\n",
    "    elif x == 'a':\n",
    "        xy[1] -= 1\n",
    "    elif x == 'w':\n",
    "        xy[0] -= 1\n",
    "    \n",
    "    for i in range(5):\n",
    "        for j in range(5):\n",
    "            if xy[0] == i and xy[1] == j:\n",
    "                print('A', end=' ')\n",
    "            else:\n",
    "                print('.', end=' ')\n",
    "                \n",
    "        print()"
   ]
  },
  {
   "cell_type": "code",
   "execution_count": 7,
   "id": "ae66a1c7-d4d4-44a0-84c6-7a99b4d543b8",
   "metadata": {},
   "outputs": [
    {
     "name": "stdout",
     "output_type": "stream",
     "text": [
      "A . . . . \n",
      ". . . . . \n",
      ". . . . . \n",
      ". . . . . \n",
      ". . . . . \n"
     ]
    }
   ],
   "source": [
    "xy=[0,0]\n",
    "for x in range(5):\n",
    "    for y in range (5):\n",
    "        if xy[0]==x and xy[1]==y:\n",
    "            print('A', end=' ')\n",
    "        else:\n",
    "            print ('.', end=' ')\n",
    "    print()\n"
   ]
  },
  {
   "cell_type": "code",
   "execution_count": null,
   "id": "b61d0f9c-2b2d-46fc-9afa-7210fa5371a7",
   "metadata": {},
   "outputs": [],
   "source": []
  }
 ],
 "metadata": {
  "kernelspec": {
   "display_name": "Python 3 (ipykernel)",
   "language": "python",
   "name": "python3"
  },
  "language_info": {
   "codemirror_mode": {
    "name": "ipython",
    "version": 3
   },
   "file_extension": ".py",
   "mimetype": "text/x-python",
   "name": "python",
   "nbconvert_exporter": "python",
   "pygments_lexer": "ipython3",
   "version": "3.12.4"
  }
 },
 "nbformat": 4,
 "nbformat_minor": 5
}
