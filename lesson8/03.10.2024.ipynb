{
 "cells": [
  {
   "cell_type": "code",
   "execution_count": 61,
   "id": "0faaa5d9-504d-4ded-830d-32f16fd46bd8",
   "metadata": {},
   "outputs": [],
   "source": [
    "def myfunc():\n",
    "    radius = int(input(\"донгелектин радиусын жаз:  \"))\n",
    "    L = 2 * 3.14 * radius\n",
    "    S = 3.14 * radius ** 2 \n",
    "    print('площадь: ' + str(S))\n",
    "    print('площадь: ' + str(L))"
   ]
  },
  {
   "cell_type": "code",
   "execution_count": 63,
   "id": "b18cbfa7-2807-4ffa-8e2a-69e72d697f61",
   "metadata": {},
   "outputs": [
    {
     "name": "stdin",
     "output_type": "stream",
     "text": [
      "донгелектин радиусын жаз:   5\n"
     ]
    },
    {
     "name": "stdout",
     "output_type": "stream",
     "text": [
      "площадь: 78.5\n",
      "площадь: 31.400000000000002\n"
     ]
    }
   ],
   "source": [
    "myfunc()"
   ]
  },
  {
   "cell_type": "code",
   "execution_count": 69,
   "id": "93e028c5-2bf1-4ce7-95e2-94105918c845",
   "metadata": {},
   "outputs": [],
   "source": [
    "def numfunc():\n",
    "    num = int(input('сан жаз:  '))\n",
    "    x = num + num * 11 + num * 111\n",
    "    print(x)"
   ]
  },
  {
   "cell_type": "code",
   "execution_count": 71,
   "id": "a7d56a9a-cf7c-4c7a-ad51-bdce4b1e1ca9",
   "metadata": {},
   "outputs": [
    {
     "name": "stdin",
     "output_type": "stream",
     "text": [
      "сан жаз:   5\n"
     ]
    },
    {
     "name": "stdout",
     "output_type": "stream",
     "text": [
      "615\n"
     ]
    }
   ],
   "source": [
    "numfunc()"
   ]
  },
  {
   "cell_type": "code",
   "execution_count": 73,
   "id": "fe75364d-7c24-4585-a540-5da3be0d7b34",
   "metadata": {},
   "outputs": [],
   "source": [
    "def func():\n",
    "    num = int(input('сан жаз:  '))\n",
    "    y = abs(num)\n",
    "    print(y)"
   ]
  },
  {
   "cell_type": "code",
   "execution_count": 77,
   "id": "3c989a64-1b4c-48a9-83d2-9c3de27a58a4",
   "metadata": {},
   "outputs": [
    {
     "name": "stdin",
     "output_type": "stream",
     "text": [
      "сан жаз:   -5\n"
     ]
    },
    {
     "name": "stdout",
     "output_type": "stream",
     "text": [
      "5\n"
     ]
    }
   ],
   "source": [
    "func()"
   ]
  },
  {
   "cell_type": "code",
   "execution_count": 99,
   "id": "8267b2d7-a3ac-4e80-88cc-850e05546bee",
   "metadata": {},
   "outputs": [
    {
     "name": "stdout",
     "output_type": "stream",
     "text": [
      "1\n",
      "2\n",
      "3\n",
      "4\n",
      "5\n",
      "6\n",
      "7\n",
      "8\n",
      "9\n",
      "10\n",
      "11\n",
      "12\n",
      "13\n",
      "14\n",
      "15\n",
      "16\n"
     ]
    }
   ],
   "source": [
    "import random \n",
    "s = 0\n",
    "for i in range(100):\n",
    "    ran = random.randint(1,10)\n",
    "    if(ran == 4):\n",
    "        s+=1\n",
    "        print(s)"
   ]
  },
  {
   "cell_type": "code",
   "execution_count": 125,
   "id": "92c68692-6cc3-43d1-b53e-aac93fba9ca1",
   "metadata": {},
   "outputs": [],
   "source": [
    "def word():\n",
    "    words = str(input('соз жаз:  '))\n",
    "    vol = ['a', 'e', 'i', 'o', 'u', 'y']\n",
    "    count = 0 \n",
    "    for i in words:\n",
    "        if(i not in vol):\n",
    "            count+=1\n",
    "\n",
    "    print(count)"
   ]
  },
  {
   "cell_type": "code",
   "execution_count": 127,
   "id": "9389d0d1-3ef5-4eea-8be3-c1c3c8272f81",
   "metadata": {},
   "outputs": [
    {
     "name": "stdin",
     "output_type": "stream",
     "text": [
      "соз жаз:   beibarys\n"
     ]
    },
    {
     "name": "stdout",
     "output_type": "stream",
     "text": [
      "4\n"
     ]
    }
   ],
   "source": [
    "word()"
   ]
  },
  {
   "cell_type": "code",
   "execution_count": null,
   "id": "48b42ddc-49a5-42a2-a6f4-ba6e1dff0cb0",
   "metadata": {},
   "outputs": [],
   "source": []
  }
 ],
 "metadata": {
  "kernelspec": {
   "display_name": "Python 3 (ipykernel)",
   "language": "python",
   "name": "python3"
  },
  "language_info": {
   "codemirror_mode": {
    "name": "ipython",
    "version": 3
   },
   "file_extension": ".py",
   "mimetype": "text/x-python",
   "name": "python",
   "nbconvert_exporter": "python",
   "pygments_lexer": "ipython3",
   "version": "3.12.4"
  }
 },
 "nbformat": 4,
 "nbformat_minor": 5
}
