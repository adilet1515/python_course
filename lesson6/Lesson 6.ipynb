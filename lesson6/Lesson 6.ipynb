{
 "cells": [
  {
   "cell_type": "code",
   "execution_count": 1,
   "id": "3473bbac-1f23-416d-9971-0911325cec7b",
   "metadata": {},
   "outputs": [
    {
     "name": "stdin",
     "output_type": "stream",
     "text": [
      " Berik\n"
     ]
    },
    {
     "name": "stdout",
     "output_type": "stream",
     "text": [
      "Hi Berik\n"
     ]
    }
   ],
   "source": [
    "def whatIsYourName():\n",
    "    a = input()\n",
    "    print('Hi ' + a)\n",
    "whatIsYourName()"
   ]
  },
  {
   "cell_type": "code",
   "execution_count": 6,
   "id": "b9a2798e-e071-4c57-8b87-5de3b960ca7e",
   "metadata": {},
   "outputs": [
    {
     "name": "stdout",
     "output_type": "stream",
     "text": [
      "6\n"
     ]
    }
   ],
   "source": [
    "def calculator(i, k, j):\n",
    "    if k == '+':\n",
    "        print(i + j)\n",
    "    elif k == '-':\n",
    "        print(i - j4)\n",
    "    elif k == '*':\n",
    "        print(i * j)\n",
    "    elif k == '/':\n",
    "        print(i / j)\n",
    "calculator(5, '+', 1)"
   ]
  },
  {
   "cell_type": "code",
   "execution_count": 9,
   "id": "1ce277da-1d03-4f69-8864-f1d904d905e6",
   "metadata": {},
   "outputs": [
    {
     "name": "stdin",
     "output_type": "stream",
     "text": [
      " 5\n"
     ]
    },
    {
     "data": {
      "text/plain": [
       "21.75"
      ]
     },
     "execution_count": 9,
     "metadata": {},
     "output_type": "execute_result"
    }
   ],
   "source": [
    "def plus(a, b):\n",
    "    return a+b\n",
    "def minus(a, b):\n",
    "    return a-b\n",
    "def mult():\n",
    "    return a*b\n",
    "def subtr():\n",
    "    return a/b\n",
    "x = int(input())\n",
    "(4*x*x-3*x+2)/(x-1)"
   ]
  },
  {
   "cell_type": "code",
   "execution_count": 11,
   "id": "ac604890-4800-4bac-8e01-53b3a17393f6",
   "metadata": {},
   "outputs": [
    {
     "name": "stdout",
     "output_type": "stream",
     "text": [
      "kireB\n"
     ]
    }
   ],
   "source": [
    "def reverse():\n",
    "    word = 'Berik'\n",
    "    print(word[::-1])\n",
    "reverse()"
   ]
  },
  {
   "cell_type": "code",
   "execution_count": null,
   "id": "e217d536-4ba7-4f44-a855-33792795ce3f",
   "metadata": {},
   "outputs": [],
   "source": [
    "i = 0\n",
    "fibb = []\n",
    "bs = 1\n",
    "es = 1\n",
    "fibb.append(bs)\n",
    "fibb.append(es)\n",
    "while i < 20:\n",
    "    alds = es + bs\n",
    "    qazs = alds + es\n",
    "    fibb.append(us)\n",
    "    \n",
    "    i += 1\n",
    "    #necessary to correct the code"
   ]
  }
 ],
 "metadata": {
  "kernelspec": {
   "display_name": "Python 3 (ipykernel)",
   "language": "python",
   "name": "python3"
  },
  "language_info": {
   "codemirror_mode": {
    "name": "ipython",
    "version": 3
   },
   "file_extension": ".py",
   "mimetype": "text/x-python",
   "name": "python",
   "nbconvert_exporter": "python",
   "pygments_lexer": "ipython3",
   "version": "3.12.4"
  }
 },
 "nbformat": 4,
 "nbformat_minor": 5
}
