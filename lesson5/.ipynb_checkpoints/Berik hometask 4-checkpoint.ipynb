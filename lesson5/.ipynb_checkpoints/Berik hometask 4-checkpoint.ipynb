{
 "cells": [
  {
   "cell_type": "code",
   "execution_count": 1,
   "id": "03687a61-1f72-4e81-ad34-8d6d8f96558b",
   "metadata": {},
   "outputs": [
    {
     "name": "stdout",
     "output_type": "stream",
     "text": [
      "+ + + + + + + + + +\n",
      "+ + + + + + + + + +\n",
      "+ + + + + + + + + +\n",
      "+ + + + + + + + + +\n",
      "+ + + + + + + + + +\n",
      "+ + + + + + + + + +\n",
      "+ + + + + + + + + +\n",
      "+ + + + + + + + + +\n",
      "+ + + + + + + + + +\n",
      "+ + + + + + + + + +\n"
     ]
    }
   ],
   "source": [
    "#HOMETASK #1\n",
    "def column(number): \n",
    "  def row():\n",
    "    print(' '.join(['+' for i in range(number)]))\n",
    "  for i in range(number):\n",
    "    row()\n",
    "column(10)"
   ]
  },
  {
   "cell_type": "code",
   "execution_count": 5,
   "id": "10b6eb49-be7a-41e6-a1b4-de20f12f93ad",
   "metadata": {},
   "outputs": [
    {
     "name": "stdout",
     "output_type": "stream",
     "text": [
      "x + x + x + x + x +\n",
      "+ x + x + x + x + x\n",
      "x + x + x + x + x +\n",
      "+ x + x + x + x + x\n",
      "x + x + x + x + x +\n",
      "+ x + x + x + x + x\n",
      "x + x + x + x + x +\n",
      "+ x + x + x + x + x\n",
      "x + x + x + x + x +\n",
      "+ x + x + x + x + x\n"
     ]
    }
   ],
   "source": [
    "def chess_print(sign):\n",
    "    for row in range(sign):\n",
    "        array = []\n",
    "        for column in range(sign):\n",
    "            if (row + column) % 2 == 0:\n",
    "                array.append('x')\n",
    "            else:\n",
    "                array.append('+')\n",
    "        print(' '.join(array))\n",
    "chess_print(10)"
   ]
  },
  {
   "cell_type": "code",
   "execution_count": 7,
   "id": "1eb3aebb-2658-41e8-b9ab-731f3e6a6bc9",
   "metadata": {},
   "outputs": [
    {
     "name": "stdout",
     "output_type": "stream",
     "text": [
      "+ - + - + - + - + -\n",
      "@ + - + - + - + - +\n",
      "+ - + - + - + - + -\n",
      "- + - + - + - + - +\n",
      "+ - + - + - + - + -\n",
      "- + - + - + - + - +\n",
      "+ - + - + - + - + -\n",
      "- + - + - + - + - +\n",
      "+ - + - + - + - + -\n",
      "- + - + - + - + - +\n"
     ]
    }
   ],
   "source": [
    "#HOMETASK #2\n",
    "import random \n",
    "\n",
    "def chess_grid(num):\n",
    "    x = random.randint(1, 10)\n",
    "    y = random.randint(1, 10)\n",
    "\n",
    "    def rows(row):\n",
    "        arr = []\n",
    "        for col in range(num):\n",
    "            if row + 1 == y and col + 1 == x:\n",
    "                arr.append('@')\n",
    "            elif (row + col) % 2 == 0:\n",
    "                arr.append('+')\n",
    "            else:\n",
    "                arr.append('-')\n",
    "        print(' '.join(arr))\n",
    "\n",
    "    for row in range(num):\n",
    "        rows(row)\n",
    "\n",
    "chess_grid(10)"
   ]
  },
  {
   "cell_type": "code",
   "execution_count": 13,
   "id": "68099ff5-8613-484a-8962-15429cf63dfb",
   "metadata": {},
   "outputs": [
    {
     "name": "stdin",
     "output_type": "stream",
     "text": [
      "Введите букву (w, a, s, d) или 'x' для выхода:  w\n"
     ]
    },
    {
     "name": "stdout",
     "output_type": "stream",
     "text": [
      ". . . . . . . . . .\n",
      ". . . . . . . . . .\n",
      ". . . . . . . . . .\n",
      ". . . . @ . . . . .\n",
      ". . . . . . . . . .\n",
      ". . . . . . . . . .\n",
      ". . . . . . . . . .\n",
      ". . . . . . . . . .\n",
      ". . . . . . . . . .\n",
      ". . . . . . . . . .\n"
     ]
    },
    {
     "name": "stdin",
     "output_type": "stream",
     "text": [
      "Введите букву (w, a, s, d) или 'x' для выхода:  a\n"
     ]
    },
    {
     "name": "stdout",
     "output_type": "stream",
     "text": [
      ". . . . . . . . . .\n",
      ". . . . . . . . . .\n",
      ". . . . . . . . . .\n",
      ". . . @ . . . . . .\n",
      ". . . . . . . . . .\n",
      ". . . . . . . . . .\n",
      ". . . . . . . . . .\n",
      ". . . . . . . . . .\n",
      ". . . . . . . . . .\n",
      ". . . . . . . . . .\n"
     ]
    },
    {
     "name": "stdin",
     "output_type": "stream",
     "text": [
      "Введите букву (w, a, s, d) или 'x' для выхода:  d\n"
     ]
    },
    {
     "name": "stdout",
     "output_type": "stream",
     "text": [
      ". . . . . . . . . .\n",
      ". . . . . . . . . .\n",
      ". . . . . . . . . .\n",
      ". . . . @ . . . . .\n",
      ". . . . . . . . . .\n",
      ". . . . . . . . . .\n",
      ". . . . . . . . . .\n",
      ". . . . . . . . . .\n",
      ". . . . . . . . . .\n",
      ". . . . . . . . . .\n"
     ]
    },
    {
     "name": "stdin",
     "output_type": "stream",
     "text": [
      "Введите букву (w, a, s, d) или 'x' для выхода:  s\n"
     ]
    },
    {
     "name": "stdout",
     "output_type": "stream",
     "text": [
      ". . . . . . . . . .\n",
      ". . . . . . . . . .\n",
      ". . . . . . . . . .\n",
      ". . . . . . . . . .\n",
      ". . . . @ . . . . .\n",
      ". . . . . . . . . .\n",
      ". . . . . . . . . .\n",
      ". . . . . . . . . .\n",
      ". . . . . . . . . .\n",
      ". . . . . . . . . .\n"
     ]
    },
    {
     "name": "stdin",
     "output_type": "stream",
     "text": [
      "Введите букву (w, a, s, d) или 'x' для выхода:  x\n"
     ]
    }
   ],
   "source": [
    "#HOMETASK #3\n",
    "def grid_control():\n",
    "    x, y = 5, 5\n",
    "\n",
    "    while True:\n",
    "        dir = input(\"Введите букву (w, a, s, d) или 'x' для выхода: \").lower()\n",
    "\n",
    "        if dir == 'x':\n",
    "            break\n",
    "        elif dir == 'w':\n",
    "            y = max(1, y - 1)\n",
    "        elif dir == 's':\n",
    "            y = min(10, y + 1)\n",
    "        elif dir == 'a':\n",
    "            x = max(1, x - 1)\n",
    "        elif dir == 'd':\n",
    "            x = min(10, x + 1)\n",
    "\n",
    "        def rows(row):\n",
    "            #return ' '.join('@' if row == y and col == x else ('+' if (row + col) % 2 == 0 else '-')\n",
    "                           #for col in range(1, 11))\n",
    "            return ' '.join('@' if row == y and col == x else '.' for col in range(1, 11))\n",
    "\n",
    "        print('\\n'.join(map(rows, range(1, 11))))\n",
    "\n",
    "grid_control()"
   ]
  },
  {
   "cell_type": "code",
   "execution_count": null,
   "id": "d7d50f91-ccb6-4a70-9b43-aa4c7e2ebb47",
   "metadata": {},
   "outputs": [],
   "source": []
  }
 ],
 "metadata": {
  "kernelspec": {
   "display_name": "Python 3 (ipykernel)",
   "language": "python",
   "name": "python3"
  },
  "language_info": {
   "codemirror_mode": {
    "name": "ipython",
    "version": 3
   },
   "file_extension": ".py",
   "mimetype": "text/x-python",
   "name": "python",
   "nbconvert_exporter": "python",
   "pygments_lexer": "ipython3",
   "version": "3.12.4"
  }
 },
 "nbformat": 4,
 "nbformat_minor": 5
}
