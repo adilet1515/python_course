{
 "cells": [
  {
   "cell_type": "code",
   "execution_count": 1,
   "id": "cb6c7261-5cfd-4fde-9ec3-440273641895",
   "metadata": {},
   "outputs": [
    {
     "name": "stdout",
     "output_type": "stream",
     "text": [
      "1\n",
      "22\n",
      "333\n",
      "4444\n",
      "55555\n",
      "666666\n",
      "7777777\n",
      "88888888\n",
      "999999999\n"
     ]
    }
   ],
   "source": [
    "for i in range(1, 10):\n",
    "    print(str(i) * i)"
   ]
  },
  {
   "cell_type": "code",
   "execution_count": 8,
   "id": "538e788c-14ca-4b06-816d-e5d812b0b306",
   "metadata": {},
   "outputs": [
    {
     "name": "stdout",
     "output_type": "stream",
     "text": [
      "1\n",
      "22\n",
      "333\n",
      "4444\n",
      "55555\n",
      "666666\n",
      "7777777\n",
      "88888888\n",
      "999999999\n"
     ]
    }
   ],
   "source": [
    "row = 1\n",
    "while row <= 9:\n",
    "    print(str(row) * row)\n",
    "    row += 1  "
   ]
  },
  {
   "cell_type": "code",
   "execution_count": 14,
   "id": "e5de08d2-ff18-4abf-a47d-76fbe195c76b",
   "metadata": {},
   "outputs": [
    {
     "name": "stdout",
     "output_type": "stream",
     "text": [
      "999999999\n",
      "88888888\n",
      "7777777\n",
      "666666\n",
      "55555\n",
      "4444\n",
      "333\n",
      "22\n",
      "1\n"
     ]
    }
   ],
   "source": [
    "for i in range(9, 0, -1):\n",
    "    print(str(i) * i)"
   ]
  },
  {
   "cell_type": "code",
   "execution_count": 68,
   "id": "ae8b55b7-9975-463e-bc22-ff950961f723",
   "metadata": {},
   "outputs": [
    {
     "name": "stdout",
     "output_type": "stream",
     "text": [
      "         1\n",
      "        22\n",
      "       333\n",
      "      4444\n",
      "     55555\n",
      "    666666\n",
      "   7777777\n",
      "  88888888\n",
      " 999999999\n",
      "10101010101010101010\n",
      " 999999999\n",
      "  88888888\n",
      "   7777777\n",
      "    666666\n",
      "     55555\n",
      "      4444\n",
      "       333\n",
      "        22\n",
      "         1\n"
     ]
    }
   ],
   "source": [
    "#n = 5\n",
    "for i in range(1, 10 + 1):\n",
    "    print(' ' * (10 - i) + str(i) * i)\n",
    "for i in range(10 - 1, 0, -1):\n",
    "    print(' ' * (10 - i) + str(i) * i)"
   ]
  },
  {
   "cell_type": "code",
   "execution_count": 99,
   "id": "78761a0d-76b3-400f-9330-b3a0798aba3f",
   "metadata": {},
   "outputs": [
    {
     "name": "stdout",
     "output_type": "stream",
     "text": [
      "         \n",
      "        1\n",
      "       222\n",
      "      33333\n",
      "     4444444\n",
      "    555555555\n",
      "   66666666666\n",
      "  7777777777777\n",
      " 888888888888888\n",
      "99999999999999999\n",
      " 888888888888888\n",
      "  7777777777777\n",
      "   66666666666\n",
      "    555555555\n",
      "     4444444\n",
      "      33333\n",
      "       222\n",
      "        1\n"
     ]
    }
   ],
   "source": [
    "for i in range(1, 9 + 1):\n",
    "    print(' ' * (9 - i) + str(i) * (2 * i - 1))\n",
    "\n",
    "for i in range(9 - 1, 0, -1):\n",
    "    print(' ' * (9 - i) + str(i) * (2 * i - 1))"
   ]
  }
 ],
 "metadata": {
  "kernelspec": {
   "display_name": "Python 3 (ipykernel)",
   "language": "python",
   "name": "python3"
  },
  "language_info": {
   "codemirror_mode": {
    "name": "ipython",
    "version": 3
   },
   "file_extension": ".py",
   "mimetype": "text/x-python",
   "name": "python",
   "nbconvert_exporter": "python",
   "pygments_lexer": "ipython3",
   "version": "3.12.4"
  }
 },
 "nbformat": 4,
 "nbformat_minor": 5
}
