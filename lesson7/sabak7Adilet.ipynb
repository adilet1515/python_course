{
 "cells": [
  {
   "cell_type": "code",
   "execution_count": 3,
   "id": "1f9e41e6-3b1f-48e4-8103-0f470adb2b4e",
   "metadata": {},
   "outputs": [
    {
     "name": "stdout",
     "output_type": "stream",
     "text": [
      "esimin: \n"
     ]
    },
    {
     "name": "stdin",
     "output_type": "stream",
     "text": [
      " Adilet\n"
     ]
    },
    {
     "name": "stdout",
     "output_type": "stream",
     "text": [
      "salem Adilet\n"
     ]
    }
   ],
   "source": [
    "def surau():\n",
    "    print('esimin: ')\n",
    "    name = input()\n",
    "    return print('salem '+name)\n",
    "\n",
    "\n",
    "surau()"
   ]
  },
  {
   "cell_type": "code",
   "execution_count": 5,
   "id": "8dad45bd-555e-47e8-8ff8-81d4b00650e4",
   "metadata": {},
   "outputs": [
    {
     "name": "stdout",
     "output_type": "stream",
     "text": [
      "esimin: \n"
     ]
    },
    {
     "name": "stdin",
     "output_type": "stream",
     "text": [
      " Adilet\n"
     ]
    },
    {
     "name": "stdout",
     "output_type": "stream",
     "text": [
      "salem Adilet\n"
     ]
    }
   ],
   "source": [
    "surau()\n"
   ]
  },
  {
   "cell_type": "code",
   "execution_count": 7,
   "id": "fb9df0bf-ab23-460b-9a02-c8125167f7b3",
   "metadata": {},
   "outputs": [
    {
     "name": "stdout",
     "output_type": "stream",
     "text": [
      "tugan zhylyn: \n"
     ]
    },
    {
     "name": "stdin",
     "output_type": "stream",
     "text": [
      " 1998\n"
     ]
    },
    {
     "name": "stdout",
     "output_type": "stream",
     "text": [
      "zahsyn  26\n"
     ]
    }
   ],
   "source": [
    "def surau():\n",
    "    print('tugan zhylyn: ')\n",
    "    zhyl = int(input())\n",
    "    return print('zasyn ',2024-zhyl)\n",
    "\n",
    "\n",
    "surau()"
   ]
  },
  {
   "cell_type": "code",
   "execution_count": 9,
   "id": "df339866-cdf7-451f-ab44-ae38c9c1f13b",
   "metadata": {},
   "outputs": [
    {
     "name": "stdout",
     "output_type": "stream",
     "text": [
      "tugan zhylyn: \n"
     ]
    },
    {
     "name": "stdin",
     "output_type": "stream",
     "text": [
      " 1998\n"
     ]
    },
    {
     "name": "stdout",
     "output_type": "stream",
     "text": [
      "zahsyn  26\n"
     ]
    }
   ],
   "source": [
    "surau()\n"
   ]
  },
  {
   "cell_type": "code",
   "execution_count": 99,
   "id": "677cd400-347b-47be-825e-e4908efab297",
   "metadata": {},
   "outputs": [
    {
     "name": "stdout",
     "output_type": "stream",
     "text": [
      "soz: \n"
     ]
    },
    {
     "name": "stdin",
     "output_type": "stream",
     "text": [
      " Adilet\n"
     ]
    },
    {
     "name": "stdout",
     "output_type": "stream",
     "text": [
      "soz: \n",
      "telidA"
     ]
    }
   ],
   "source": [
    "def func1():\n",
    "    print('soz: ')\n",
    "    soz = input()\n",
    "    return soz\n",
    "    \n",
    "def func2(soz):\n",
    "    print('soz: ')\n",
    "    for i in range(len(soz),0,-1):\n",
    "        print(soz[i-1],end='')\n",
    "        \n",
    "\n",
    "func2(func1())\n",
    "\n",
    "\n"
   ]
  },
  {
   "cell_type": "code",
   "execution_count": 3,
   "id": "74d326f0-7aff-41f9-935d-5f81c744d12c",
   "metadata": {},
   "outputs": [
    {
     "name": "stdout",
     "output_type": "stream",
     "text": [
      "\n",
      " .  .  .  .  .  .  .  .  .  . \n",
      " .  .  .  .  .  .  .  .  .  . \n",
      " .  .  .  .  .  .  .  .  .  . \n",
      " .  .  .  .  .  .  .  .  .  . \n",
      " .  .  .  .  @  .  .  .  .  . \n",
      " .  .  .  .  .  .  .  .  .  . \n",
      " $  .  .  .  .  .  .  .  .  . \n",
      " .  .  .  .  .  .  .  .  .  . \n",
      " .  .  .  .  .  .  .  .  .  . \n",
      " .  .  .  .  .  .  .  .  .  . score:  0\n",
      "\r"
     ]
    },
    {
     "name": "stdin",
     "output_type": "stream",
     "text": [
      " a\n"
     ]
    },
    {
     "name": "stdout",
     "output_type": "stream",
     "text": [
      "\n",
      " .  .  .  .  .  .  .  .  .  . \n",
      " .  .  .  .  .  .  .  .  .  . \n",
      " .  .  .  .  .  .  .  .  .  . \n",
      " .  .  .  .  .  .  .  .  .  . \n",
      " .  .  .  @  .  .  .  .  .  . \n",
      " .  .  .  .  .  .  .  .  .  . \n",
      " $  .  .  .  .  .  .  .  .  . \n",
      " .  .  .  .  .  .  .  .  .  . \n",
      " .  .  .  .  .  .  .  .  .  . \n",
      " .  .  .  .  .  .  .  .  .  . score:  0\n",
      "\r"
     ]
    },
    {
     "name": "stdin",
     "output_type": "stream",
     "text": [
      " a\n"
     ]
    },
    {
     "name": "stdout",
     "output_type": "stream",
     "text": [
      "\n",
      " .  .  .  .  .  .  .  .  .  . \n",
      " .  .  .  .  .  .  .  .  .  . \n",
      " .  .  .  .  .  .  .  .  .  . \n",
      " .  .  .  .  .  .  .  .  .  . \n",
      " .  .  @  .  .  .  .  .  .  . \n",
      " .  .  .  .  .  .  .  .  .  . \n",
      " $  .  .  .  .  .  .  .  .  . \n",
      " .  .  .  .  .  .  .  .  .  . \n",
      " .  .  .  .  .  .  .  .  .  . \n",
      " .  .  .  .  .  .  .  .  .  . score:  0\n",
      "\r"
     ]
    },
    {
     "name": "stdin",
     "output_type": "stream",
     "text": [
      " a\n"
     ]
    },
    {
     "name": "stdout",
     "output_type": "stream",
     "text": [
      "\n",
      " .  .  .  .  .  .  .  .  .  . \n",
      " .  .  .  .  .  .  .  .  .  . \n",
      " .  .  .  .  .  .  .  .  .  . \n",
      " .  .  .  .  .  .  .  .  .  . \n",
      " .  @  .  .  .  .  .  .  .  . \n",
      " .  .  .  .  .  .  .  .  .  . \n",
      " $  .  .  .  .  .  .  .  .  . \n",
      " .  .  .  .  .  .  .  .  .  . \n",
      " .  .  .  .  .  .  .  .  .  . \n",
      " .  .  .  .  .  .  .  .  .  . score:  0\n",
      "\r"
     ]
    },
    {
     "name": "stdin",
     "output_type": "stream",
     "text": [
      " a\n"
     ]
    },
    {
     "name": "stdout",
     "output_type": "stream",
     "text": [
      "\n",
      " .  .  .  .  .  .  .  .  .  . \n",
      " .  .  .  .  .  .  .  .  .  . \n",
      " .  .  .  .  .  .  .  .  .  . \n",
      " .  .  .  .  .  .  .  .  .  . \n",
      " @  .  .  .  .  .  .  .  .  . \n",
      " .  .  .  .  .  .  .  .  .  . \n",
      " $  .  .  .  .  .  .  .  .  . \n",
      " .  .  .  .  .  .  .  .  .  . \n",
      " .  .  .  .  .  .  .  .  .  . \n",
      " .  .  .  .  .  .  .  .  .  . score:  0\n",
      "\r"
     ]
    },
    {
     "name": "stdin",
     "output_type": "stream",
     "text": [
      " s\n"
     ]
    },
    {
     "name": "stdout",
     "output_type": "stream",
     "text": [
      "\n",
      " .  .  .  .  .  .  .  .  .  . \n",
      " .  .  .  .  .  .  .  .  .  . \n",
      " .  .  .  .  .  .  .  .  .  . \n",
      " .  .  .  .  .  .  .  .  .  . \n",
      " .  .  .  .  .  .  .  .  .  . \n",
      " @  .  .  .  .  .  .  .  .  . \n",
      " $  .  .  .  .  .  .  .  .  . \n",
      " .  .  .  .  .  .  .  .  .  . \n",
      " .  .  .  .  .  .  .  .  .  . \n",
      " .  .  .  .  .  .  .  .  .  . score:  0\n",
      "\r"
     ]
    },
    {
     "name": "stdin",
     "output_type": "stream",
     "text": [
      " s\n"
     ]
    },
    {
     "name": "stdout",
     "output_type": "stream",
     "text": [
      "\n",
      " .  .  .  .  .  .  .  .  .  . \n",
      " .  .  .  .  .  .  .  .  .  . \n",
      " .  .  .  .  .  .  .  .  .  . \n",
      " .  .  .  .  .  .  .  .  .  . \n",
      " .  .  .  .  .  .  .  .  .  . \n",
      " .  .  .  .  .  .  .  .  .  . \n",
      " @  .  .  .  $  .  .  .  .  . \n",
      " .  .  .  .  .  .  .  .  .  . \n",
      " .  .  .  .  .  .  .  .  .  . \n",
      " .  .  .  .  .  .  .  .  .  . score:  1\n",
      "\r"
     ]
    },
    {
     "name": "stdin",
     "output_type": "stream",
     "text": [
      " d\n"
     ]
    },
    {
     "name": "stdout",
     "output_type": "stream",
     "text": [
      "\n",
      " .  .  .  .  .  .  .  .  .  . \n",
      " .  .  .  .  .  .  .  .  .  . \n",
      " .  .  .  .  .  .  .  .  .  . \n",
      " .  .  .  .  .  .  .  .  .  . \n",
      " .  .  .  .  .  .  .  .  .  . \n",
      " .  .  .  .  .  .  .  .  .  . \n",
      " .  @  .  .  $  .  .  .  .  . \n",
      " .  .  .  .  .  .  .  .  .  . \n",
      " .  .  .  .  .  .  .  .  .  . \n",
      " .  .  .  .  .  .  .  .  .  . score:  1\n",
      "\r"
     ]
    },
    {
     "name": "stdin",
     "output_type": "stream",
     "text": [
      " d\n"
     ]
    },
    {
     "name": "stdout",
     "output_type": "stream",
     "text": [
      "\n",
      " .  .  .  .  .  .  .  .  .  . \n",
      " .  .  .  .  .  .  .  .  .  . \n",
      " .  .  .  .  .  .  .  .  .  . \n",
      " .  .  .  .  .  .  .  .  .  . \n",
      " .  .  .  .  .  .  .  .  .  . \n",
      " .  .  .  .  .  .  .  .  .  . \n",
      " .  .  @  .  $  .  .  .  .  . \n",
      " .  .  .  .  .  .  .  .  .  . \n",
      " .  .  .  .  .  .  .  .  .  . \n",
      " .  .  .  .  .  .  .  .  .  . score:  1\n",
      "\r"
     ]
    },
    {
     "name": "stdin",
     "output_type": "stream",
     "text": [
      " d\n"
     ]
    },
    {
     "name": "stdout",
     "output_type": "stream",
     "text": [
      "\n",
      " .  .  .  .  .  .  .  .  .  . \n",
      " .  .  .  .  .  .  .  .  .  . \n",
      " .  .  .  .  .  .  .  .  .  . \n",
      " .  .  .  .  .  .  .  .  .  . \n",
      " .  .  .  .  .  .  .  .  .  . \n",
      " .  .  .  .  .  .  .  .  .  . \n",
      " .  .  .  @  $  .  .  .  .  . \n",
      " .  .  .  .  .  .  .  .  .  . \n",
      " .  .  .  .  .  .  .  .  .  . \n",
      " .  .  .  .  .  .  .  .  .  . score:  1\n",
      "\r"
     ]
    },
    {
     "name": "stdin",
     "output_type": "stream",
     "text": [
      " d\n"
     ]
    },
    {
     "name": "stdout",
     "output_type": "stream",
     "text": [
      "\n",
      " .  .  .  .  .  .  .  .  .  . \n",
      " .  .  .  .  .  .  .  .  .  . \n",
      " .  .  .  .  .  .  .  .  .  . \n",
      " .  .  .  .  .  .  .  .  .  . \n",
      " .  .  .  .  .  .  .  .  .  . \n",
      " .  .  .  .  .  .  .  .  .  . \n",
      " .  .  .  .  @  .  .  .  .  . \n",
      " .  .  .  .  .  .  .  .  .  . \n",
      " .  .  .  .  .  .  .  .  .  . \n",
      " .  .  .  .  .  .  .  .  .  $ score:  2\n",
      "\r"
     ]
    },
    {
     "name": "stdin",
     "output_type": "stream",
     "text": [
      " d\n"
     ]
    },
    {
     "name": "stdout",
     "output_type": "stream",
     "text": [
      "\n",
      " .  .  .  .  .  .  .  .  .  . \n",
      " .  .  .  .  .  .  .  .  .  . \n",
      " .  .  .  .  .  .  .  .  .  . \n",
      " .  .  .  .  .  .  .  .  .  . \n",
      " .  .  .  .  .  .  .  .  .  . \n",
      " .  .  .  .  .  .  .  .  .  . \n",
      " .  .  .  .  .  @  .  .  .  . \n",
      " .  .  .  .  .  .  .  .  .  . \n",
      " .  .  .  .  .  .  .  .  .  . \n",
      " .  .  .  .  .  .  .  .  .  $ score:  2\n",
      "\r"
     ]
    },
    {
     "name": "stdin",
     "output_type": "stream",
     "text": [
      " d\n"
     ]
    },
    {
     "name": "stdout",
     "output_type": "stream",
     "text": [
      "\n",
      " .  .  .  .  .  .  .  .  .  . \n",
      " .  .  .  .  .  .  .  .  .  . \n",
      " .  .  .  .  .  .  .  .  .  . \n",
      " .  .  .  .  .  .  .  .  .  . \n",
      " .  .  .  .  .  .  .  .  .  . \n",
      " .  .  .  .  .  .  .  .  .  . \n",
      " .  .  .  .  .  .  @  .  .  . \n",
      " .  .  .  .  .  .  .  .  .  . \n",
      " .  .  .  .  .  .  .  .  .  . \n",
      " .  .  .  .  .  .  .  .  .  $ score:  2\n",
      "\r"
     ]
    },
    {
     "name": "stdin",
     "output_type": "stream",
     "text": [
      " d\n"
     ]
    },
    {
     "name": "stdout",
     "output_type": "stream",
     "text": [
      "\n",
      " .  .  .  .  .  .  .  .  .  . \n",
      " .  .  .  .  .  .  .  .  .  . \n",
      " .  .  .  .  .  .  .  .  .  . \n",
      " .  .  .  .  .  .  .  .  .  . \n",
      " .  .  .  .  .  .  .  .  .  . \n",
      " .  .  .  .  .  .  .  .  .  . \n",
      " .  .  .  .  .  .  .  @  .  . \n",
      " .  .  .  .  .  .  .  .  .  . \n",
      " .  .  .  .  .  .  .  .  .  . \n",
      " .  .  .  .  .  .  .  .  .  $ score:  2\n",
      "\r"
     ]
    },
    {
     "name": "stdin",
     "output_type": "stream",
     "text": [
      " d\n"
     ]
    },
    {
     "name": "stdout",
     "output_type": "stream",
     "text": [
      "\n",
      " .  .  .  .  .  .  .  .  .  . \n",
      " .  .  .  .  .  .  .  .  .  . \n",
      " .  .  .  .  .  .  .  .  .  . \n",
      " .  .  .  .  .  .  .  .  .  . \n",
      " .  .  .  .  .  .  .  .  .  . \n",
      " .  .  .  .  .  .  .  .  .  . \n",
      " .  .  .  .  .  .  .  .  @  . \n",
      " .  .  .  .  .  .  .  .  .  . \n",
      " .  .  .  .  .  .  .  .  .  . \n",
      " .  .  .  .  .  .  .  .  .  $ score:  2\n",
      "\r"
     ]
    },
    {
     "name": "stdin",
     "output_type": "stream",
     "text": [
      " d\n"
     ]
    },
    {
     "name": "stdout",
     "output_type": "stream",
     "text": [
      "\n",
      " .  .  .  .  .  .  .  .  .  . \n",
      " .  .  .  .  .  .  .  .  .  . \n",
      " .  .  .  .  .  .  .  .  .  . \n",
      " .  .  .  .  .  .  .  .  .  . \n",
      " .  .  .  .  .  .  .  .  .  . \n",
      " .  .  .  .  .  .  .  .  .  . \n",
      " .  .  .  .  .  .  .  .  .  @ \n",
      " .  .  .  .  .  .  .  .  .  . \n",
      " .  .  .  .  .  .  .  .  .  . \n",
      " .  .  .  .  .  .  .  .  .  $ score:  2\n",
      "\r"
     ]
    },
    {
     "name": "stdin",
     "output_type": "stream",
     "text": [
      " s\n"
     ]
    },
    {
     "name": "stdout",
     "output_type": "stream",
     "text": [
      "\n",
      " .  .  .  .  .  .  .  .  .  . \n",
      " .  .  .  .  .  .  .  .  .  . \n",
      " .  .  .  .  .  .  .  .  .  . \n",
      " .  .  .  .  .  .  .  .  .  . \n",
      " .  .  .  .  .  .  .  .  .  . \n",
      " .  .  .  .  .  .  .  .  .  . \n",
      " .  .  .  .  .  .  .  .  .  . \n",
      " .  .  .  .  .  .  .  .  .  @ \n",
      " .  .  .  .  .  .  .  .  .  . \n",
      " .  .  .  .  .  .  .  .  .  $ score:  2\n",
      "\r"
     ]
    },
    {
     "name": "stdin",
     "output_type": "stream",
     "text": [
      " s\n"
     ]
    },
    {
     "name": "stdout",
     "output_type": "stream",
     "text": [
      "\n",
      " .  .  .  .  .  .  .  .  .  . \n",
      " .  .  .  .  .  .  .  .  .  . \n",
      " .  .  .  .  .  .  .  .  .  . \n",
      " .  .  .  .  .  .  .  .  .  . \n",
      " .  .  .  .  .  .  .  .  .  . \n",
      " .  .  .  .  .  .  .  .  .  . \n",
      " .  .  .  .  .  .  .  .  .  . \n",
      " .  .  .  .  .  .  .  .  .  . \n",
      " .  .  .  .  .  .  .  .  .  @ \n",
      " .  .  .  .  .  .  .  .  .  $ score:  2\n",
      "\r"
     ]
    },
    {
     "name": "stdin",
     "output_type": "stream",
     "text": [
      " s\n"
     ]
    },
    {
     "name": "stdout",
     "output_type": "stream",
     "text": [
      "\n",
      " .  .  .  .  .  .  .  .  .  . \n",
      " .  .  .  .  .  .  .  .  .  . \n",
      " .  .  .  .  $  .  .  .  .  . \n",
      " .  .  .  .  .  .  .  .  .  . \n",
      " .  .  .  .  .  .  .  .  .  . \n",
      " .  .  .  .  .  .  .  .  .  . \n",
      " .  .  .  .  .  .  .  .  .  . \n",
      " .  .  .  .  .  .  .  .  .  . \n",
      " .  .  .  .  .  .  .  .  .  . \n",
      " .  .  .  .  .  .  .  .  .  @ score:  3\n",
      "\r"
     ]
    },
    {
     "name": "stdin",
     "output_type": "stream",
     "text": [
      " a\n"
     ]
    },
    {
     "name": "stdout",
     "output_type": "stream",
     "text": [
      "\n",
      " .  .  .  .  .  .  .  .  .  . \n",
      " .  .  .  .  .  .  .  .  .  . \n",
      " .  .  .  .  $  .  .  .  .  . \n",
      " .  .  .  .  .  .  .  .  .  . \n",
      " .  .  .  .  .  .  .  .  .  . \n",
      " .  .  .  .  .  .  .  .  .  . \n",
      " .  .  .  .  .  .  .  .  .  . \n",
      " .  .  .  .  .  .  .  .  .  . \n",
      " .  .  .  .  .  .  .  .  .  . \n",
      " .  .  .  .  .  .  .  .  @  . score:  3\n",
      "\r"
     ]
    },
    {
     "name": "stdin",
     "output_type": "stream",
     "text": [
      " a\n"
     ]
    },
    {
     "name": "stdout",
     "output_type": "stream",
     "text": [
      "\n",
      " .  .  .  .  .  .  .  .  .  . \n",
      " .  .  .  .  .  .  .  .  .  . \n",
      " .  .  .  .  $  .  .  .  .  . \n",
      " .  .  .  .  .  .  .  .  .  . \n",
      " .  .  .  .  .  .  .  .  .  . \n",
      " .  .  .  .  .  .  .  .  .  . \n",
      " .  .  .  .  .  .  .  .  .  . \n",
      " .  .  .  .  .  .  .  .  .  . \n",
      " .  .  .  .  .  .  .  .  .  . \n",
      " .  .  .  .  .  .  .  @  .  . score:  3\n",
      "\r"
     ]
    },
    {
     "name": "stdin",
     "output_type": "stream",
     "text": [
      " a\n"
     ]
    },
    {
     "name": "stdout",
     "output_type": "stream",
     "text": [
      "\n",
      " .  .  .  .  .  .  .  .  .  . \n",
      " .  .  .  .  .  .  .  .  .  . \n",
      " .  .  .  .  $  .  .  .  .  . \n",
      " .  .  .  .  .  .  .  .  .  . \n",
      " .  .  .  .  .  .  .  .  .  . \n",
      " .  .  .  .  .  .  .  .  .  . \n",
      " .  .  .  .  .  .  .  .  .  . \n",
      " .  .  .  .  .  .  .  .  .  . \n",
      " .  .  .  .  .  .  .  .  .  . \n",
      " .  .  .  .  .  .  @  .  .  . score:  3\n",
      "\r"
     ]
    },
    {
     "name": "stdin",
     "output_type": "stream",
     "text": [
      " a\n"
     ]
    },
    {
     "name": "stdout",
     "output_type": "stream",
     "text": [
      "\n",
      " .  .  .  .  .  .  .  .  .  . \n",
      " .  .  .  .  .  .  .  .  .  . \n",
      " .  .  .  .  $  .  .  .  .  . \n",
      " .  .  .  .  .  .  .  .  .  . \n",
      " .  .  .  .  .  .  .  .  .  . \n",
      " .  .  .  .  .  .  .  .  .  . \n",
      " .  .  .  .  .  .  .  .  .  . \n",
      " .  .  .  .  .  .  .  .  .  . \n",
      " .  .  .  .  .  .  .  .  .  . \n",
      " .  .  .  .  .  @  .  .  .  . score:  3\n",
      "\r"
     ]
    },
    {
     "name": "stdin",
     "output_type": "stream",
     "text": [
      " a\n"
     ]
    },
    {
     "name": "stdout",
     "output_type": "stream",
     "text": [
      "\n",
      " .  .  .  .  .  .  .  .  .  . \n",
      " .  .  .  .  .  .  .  .  .  . \n",
      " .  .  .  .  $  .  .  .  .  . \n",
      " .  .  .  .  .  .  .  .  .  . \n",
      " .  .  .  .  .  .  .  .  .  . \n",
      " .  .  .  .  .  .  .  .  .  . \n",
      " .  .  .  .  .  .  .  .  .  . \n",
      " .  .  .  .  .  .  .  .  .  . \n",
      " .  .  .  .  .  .  .  .  .  . \n",
      " .  .  .  .  @  .  .  .  .  . score:  3\n",
      "\r"
     ]
    },
    {
     "name": "stdin",
     "output_type": "stream",
     "text": [
      " w\n"
     ]
    },
    {
     "name": "stdout",
     "output_type": "stream",
     "text": [
      "\n",
      " .  .  .  .  .  .  .  .  .  . \n",
      " .  .  .  .  .  .  .  .  .  . \n",
      " .  .  .  .  $  .  .  .  .  . \n",
      " .  .  .  .  .  .  .  .  .  . \n",
      " .  .  .  .  .  .  .  .  .  . \n",
      " .  .  .  .  .  .  .  .  .  . \n",
      " .  .  .  .  .  .  .  .  .  . \n",
      " .  .  .  .  .  .  .  .  .  . \n",
      " .  .  .  .  @  .  .  .  .  . \n",
      " .  .  .  .  .  .  .  .  .  . score:  3\n",
      "\r"
     ]
    },
    {
     "name": "stdin",
     "output_type": "stream",
     "text": [
      " w\n"
     ]
    },
    {
     "name": "stdout",
     "output_type": "stream",
     "text": [
      "\n",
      " .  .  .  .  .  .  .  .  .  . \n",
      " .  .  .  .  .  .  .  .  .  . \n",
      " .  .  .  .  $  .  .  .  .  . \n",
      " .  .  .  .  .  .  .  .  .  . \n",
      " .  .  .  .  .  .  .  .  .  . \n",
      " .  .  .  .  .  .  .  .  .  . \n",
      " .  .  .  .  .  .  .  .  .  . \n",
      " .  .  .  .  @  .  .  .  .  . \n",
      " .  .  .  .  .  .  .  .  .  . \n",
      " .  .  .  .  .  .  .  .  .  . score:  3\n",
      "\r"
     ]
    },
    {
     "name": "stdin",
     "output_type": "stream",
     "text": [
      " w\n"
     ]
    },
    {
     "name": "stdout",
     "output_type": "stream",
     "text": [
      "\n",
      " .  .  .  .  .  .  .  .  .  . \n",
      " .  .  .  .  .  .  .  .  .  . \n",
      " .  .  .  .  $  .  .  .  .  . \n",
      " .  .  .  .  .  .  .  .  .  . \n",
      " .  .  .  .  .  .  .  .  .  . \n",
      " .  .  .  .  .  .  .  .  .  . \n",
      " .  .  .  .  @  .  .  .  .  . \n",
      " .  .  .  .  .  .  .  .  .  . \n",
      " .  .  .  .  .  .  .  .  .  . \n",
      " .  .  .  .  .  .  .  .  .  . score:  3\n",
      "\r"
     ]
    },
    {
     "name": "stdin",
     "output_type": "stream",
     "text": [
      " w\n"
     ]
    },
    {
     "name": "stdout",
     "output_type": "stream",
     "text": [
      "\n",
      " .  .  .  .  .  .  .  .  .  . \n",
      " .  .  .  .  .  .  .  .  .  . \n",
      " .  .  .  .  $  .  .  .  .  . \n",
      " .  .  .  .  .  .  .  .  .  . \n",
      " .  .  .  .  .  .  .  .  .  . \n",
      " .  .  .  .  @  .  .  .  .  . \n",
      " .  .  .  .  .  .  .  .  .  . \n",
      " .  .  .  .  .  .  .  .  .  . \n",
      " .  .  .  .  .  .  .  .  .  . \n",
      " .  .  .  .  .  .  .  .  .  . score:  3\n",
      "\r"
     ]
    },
    {
     "name": "stdin",
     "output_type": "stream",
     "text": [
      " w\n"
     ]
    },
    {
     "name": "stdout",
     "output_type": "stream",
     "text": [
      "\n",
      " .  .  .  .  .  .  .  .  .  . \n",
      " .  .  .  .  .  .  .  .  .  . \n",
      " .  .  .  .  $  .  .  .  .  . \n",
      " .  .  .  .  .  .  .  .  .  . \n",
      " .  .  .  .  @  .  .  .  .  . \n",
      " .  .  .  .  .  .  .  .  .  . \n",
      " .  .  .  .  .  .  .  .  .  . \n",
      " .  .  .  .  .  .  .  .  .  . \n",
      " .  .  .  .  .  .  .  .  .  . \n",
      " .  .  .  .  .  .  .  .  .  . score:  3\n",
      "\r"
     ]
    },
    {
     "name": "stdin",
     "output_type": "stream",
     "text": [
      " w\n"
     ]
    },
    {
     "name": "stdout",
     "output_type": "stream",
     "text": [
      "\n",
      " .  .  .  .  .  .  .  .  .  . \n",
      " .  .  .  .  .  .  .  .  .  . \n",
      " .  .  .  .  $  .  .  .  .  . \n",
      " .  .  .  .  @  .  .  .  .  . \n",
      " .  .  .  .  .  .  .  .  .  . \n",
      " .  .  .  .  .  .  .  .  .  . \n",
      " .  .  .  .  .  .  .  .  .  . \n",
      " .  .  .  .  .  .  .  .  .  . \n",
      " .  .  .  .  .  .  .  .  .  . \n",
      " .  .  .  .  .  .  .  .  .  . score:  3\n",
      "\r"
     ]
    },
    {
     "name": "stdin",
     "output_type": "stream",
     "text": [
      " w\n"
     ]
    },
    {
     "name": "stdout",
     "output_type": "stream",
     "text": [
      "\n",
      " .  .  .  .  .  .  .  .  .  . \n",
      " .  .  .  .  .  .  .  .  .  . \n",
      " .  .  .  .  @  .  .  .  .  . \n",
      " .  .  .  .  .  .  .  .  .  . \n",
      " .  .  .  .  .  .  .  .  .  . \n",
      " .  .  .  .  .  .  .  .  .  . \n",
      " .  .  .  .  .  .  .  $  .  . \n",
      " .  .  .  .  .  .  .  .  .  . \n",
      " .  .  .  .  .  .  .  .  .  . \n",
      " .  .  .  .  .  .  .  .  .  . score:  4\n",
      "\r"
     ]
    },
    {
     "name": "stdin",
     "output_type": "stream",
     "text": [
      " w\n"
     ]
    },
    {
     "name": "stdout",
     "output_type": "stream",
     "text": [
      "\n",
      " .  .  .  .  .  .  .  .  .  . \n",
      " .  .  .  .  @  .  .  .  .  . \n",
      " .  .  .  .  .  .  .  .  .  . \n",
      " .  .  .  .  .  .  .  .  .  . \n",
      " .  .  .  .  .  .  .  .  .  . \n",
      " .  .  .  .  .  .  .  .  .  . \n",
      " .  .  .  .  .  .  .  $  .  . \n",
      " .  .  .  .  .  .  .  .  .  . \n",
      " .  .  .  .  .  .  .  .  .  . \n",
      " .  .  .  .  .  .  .  .  .  . score:  4\n",
      "\r"
     ]
    },
    {
     "name": "stdin",
     "output_type": "stream",
     "text": [
      " d\n"
     ]
    },
    {
     "name": "stdout",
     "output_type": "stream",
     "text": [
      "\n",
      " .  .  .  .  .  .  .  .  .  . \n",
      " .  .  .  .  .  @  .  .  .  . \n",
      " .  .  .  .  .  .  .  .  .  . \n",
      " .  .  .  .  .  .  .  .  .  . \n",
      " .  .  .  .  .  .  .  .  .  . \n",
      " .  .  .  .  .  .  .  .  .  . \n",
      " .  .  .  .  .  .  .  $  .  . \n",
      " .  .  .  .  .  .  .  .  .  . \n",
      " .  .  .  .  .  .  .  .  .  . \n",
      " .  .  .  .  .  .  .  .  .  . score:  4\n",
      "\r"
     ]
    },
    {
     "name": "stdin",
     "output_type": "stream",
     "text": [
      " d\n"
     ]
    },
    {
     "name": "stdout",
     "output_type": "stream",
     "text": [
      "\n",
      " .  .  .  .  .  .  .  .  .  . \n",
      " .  .  .  .  .  .  @  .  .  . \n",
      " .  .  .  .  .  .  .  .  .  . \n",
      " .  .  .  .  .  .  .  .  .  . \n",
      " .  .  .  .  .  .  .  .  .  . \n",
      " .  .  .  .  .  .  .  .  .  . \n",
      " .  .  .  .  .  .  .  $  .  . \n",
      " .  .  .  .  .  .  .  .  .  . \n",
      " .  .  .  .  .  .  .  .  .  . \n",
      " .  .  .  .  .  .  .  .  .  . score:  4\n",
      "\r"
     ]
    },
    {
     "name": "stdin",
     "output_type": "stream",
     "text": [
      " d\n"
     ]
    },
    {
     "name": "stdout",
     "output_type": "stream",
     "text": [
      "\n",
      " .  .  .  .  .  .  .  .  .  . \n",
      " .  .  .  .  .  .  .  @  .  . \n",
      " .  .  .  .  .  .  .  .  .  . \n",
      " .  .  .  .  .  .  .  .  .  . \n",
      " .  .  .  .  .  .  .  .  .  . \n",
      " .  .  .  .  .  .  .  .  .  . \n",
      " .  .  .  .  .  .  .  $  .  . \n",
      " .  .  .  .  .  .  .  .  .  . \n",
      " .  .  .  .  .  .  .  .  .  . \n",
      " .  .  .  .  .  .  .  .  .  . score:  4\n",
      "\r"
     ]
    },
    {
     "name": "stdin",
     "output_type": "stream",
     "text": [
      " d\n"
     ]
    },
    {
     "name": "stdout",
     "output_type": "stream",
     "text": [
      "\n",
      " .  .  .  .  .  .  .  .  .  . \n",
      " .  .  .  .  .  .  .  .  @  . \n",
      " .  .  .  .  .  .  .  .  .  . \n",
      " .  .  .  .  .  .  .  .  .  . \n",
      " .  .  .  .  .  .  .  .  .  . \n",
      " .  .  .  .  .  .  .  .  .  . \n",
      " .  .  .  .  .  .  .  $  .  . \n",
      " .  .  .  .  .  .  .  .  .  . \n",
      " .  .  .  .  .  .  .  .  .  . \n",
      " .  .  .  .  .  .  .  .  .  . score:  4\n",
      "\r"
     ]
    },
    {
     "name": "stdin",
     "output_type": "stream",
     "text": [
      " s\n"
     ]
    },
    {
     "name": "stdout",
     "output_type": "stream",
     "text": [
      "\n",
      " .  .  .  .  .  .  .  .  .  . \n",
      " .  .  .  .  .  .  .  .  .  . \n",
      " .  .  .  .  .  .  .  .  @  . \n",
      " .  .  .  .  .  .  .  .  .  . \n",
      " .  .  .  .  .  .  .  .  .  . \n",
      " .  .  .  .  .  .  .  .  .  . \n",
      " .  .  .  .  .  .  .  $  .  . \n",
      " .  .  .  .  .  .  .  .  .  . \n",
      " .  .  .  .  .  .  .  .  .  . \n",
      " .  .  .  .  .  .  .  .  .  . score:  4\n",
      "\r"
     ]
    },
    {
     "name": "stdin",
     "output_type": "stream",
     "text": [
      " s\n"
     ]
    },
    {
     "name": "stdout",
     "output_type": "stream",
     "text": [
      "\n",
      " .  .  .  .  .  .  .  .  .  . \n",
      " .  .  .  .  .  .  .  .  .  . \n",
      " .  .  .  .  .  .  .  .  .  . \n",
      " .  .  .  .  .  .  .  .  @  . \n",
      " .  .  .  .  .  .  .  .  .  . \n",
      " .  .  .  .  .  .  .  .  .  . \n",
      " .  .  .  .  .  .  .  $  .  . \n",
      " .  .  .  .  .  .  .  .  .  . \n",
      " .  .  .  .  .  .  .  .  .  . \n",
      " .  .  .  .  .  .  .  .  .  . score:  4\n",
      "\r"
     ]
    },
    {
     "name": "stdin",
     "output_type": "stream",
     "text": [
      " s\n"
     ]
    },
    {
     "name": "stdout",
     "output_type": "stream",
     "text": [
      "\n",
      " .  .  .  .  .  .  .  .  .  . \n",
      " .  .  .  .  .  .  .  .  .  . \n",
      " .  .  .  .  .  .  .  .  .  . \n",
      " .  .  .  .  .  .  .  .  .  . \n",
      " .  .  .  .  .  .  .  .  @  . \n",
      " .  .  .  .  .  .  .  .  .  . \n",
      " .  .  .  .  .  .  .  $  .  . \n",
      " .  .  .  .  .  .  .  .  .  . \n",
      " .  .  .  .  .  .  .  .  .  . \n",
      " .  .  .  .  .  .  .  .  .  . score:  4\n",
      "\r"
     ]
    },
    {
     "name": "stdin",
     "output_type": "stream",
     "text": [
      " s\n"
     ]
    },
    {
     "name": "stdout",
     "output_type": "stream",
     "text": [
      "\n",
      " .  .  .  .  .  .  .  .  .  . \n",
      " .  .  .  .  .  .  .  .  .  . \n",
      " .  .  .  .  .  .  .  .  .  . \n",
      " .  .  .  .  .  .  .  .  .  . \n",
      " .  .  .  .  .  .  .  .  .  . \n",
      " .  .  .  .  .  .  .  .  @  . \n",
      " .  .  .  .  .  .  .  $  .  . \n",
      " .  .  .  .  .  .  .  .  .  . \n",
      " .  .  .  .  .  .  .  .  .  . \n",
      " .  .  .  .  .  .  .  .  .  . score:  4\n",
      "\r"
     ]
    },
    {
     "name": "stdin",
     "output_type": "stream",
     "text": [
      " s\n"
     ]
    },
    {
     "name": "stdout",
     "output_type": "stream",
     "text": [
      "\n",
      " .  .  .  .  .  .  .  .  .  . \n",
      " .  .  .  .  .  .  .  .  .  . \n",
      " .  .  .  .  .  .  .  .  .  . \n",
      " .  .  .  .  .  .  .  .  .  . \n",
      " .  .  .  .  .  .  .  .  .  . \n",
      " .  .  .  .  .  .  .  .  .  . \n",
      " .  .  .  .  .  .  .  $  @  . \n",
      " .  .  .  .  .  .  .  .  .  . \n",
      " .  .  .  .  .  .  .  .  .  . \n",
      " .  .  .  .  .  .  .  .  .  . score:  4\n",
      "\r"
     ]
    },
    {
     "name": "stdin",
     "output_type": "stream",
     "text": [
      " a\n"
     ]
    },
    {
     "name": "stdout",
     "output_type": "stream",
     "text": [
      "\n",
      " . \n",
      "\n",
      "\n",
      "\n",
      "\n",
      "\n",
      "\n",
      "\n",
      "\n",
      "score:  5\n",
      "\r"
     ]
    },
    {
     "name": "stdin",
     "output_type": "stream",
     "text": [
      " s\n"
     ]
    }
   ],
   "source": [
    "import random\n",
    "x = 5\n",
    "y = 5\n",
    "x2 =0\n",
    "y2 =0\n",
    "score = 0\n",
    "\n",
    "x2= random.randint(1,10)\n",
    "y2= random.randint(1,10)\n",
    "\n",
    "\n",
    "while score != 5:\n",
    "    for i in range(1,11):\n",
    "        print('')\n",
    "        for j in range(1,11):\n",
    "            if i==y and j == x:\n",
    "                print(' @ ',end='')\n",
    "            elif i==y2 and j==x2:\n",
    "                print(' $ ',end='')\n",
    "            elif y == y2 and x==x2:\n",
    "                score= score+1\n",
    "                print(' . ',end='')\n",
    "                x2= random.randint(1,10)\n",
    "                y2 =random.randint(1,10)\n",
    "            elif score == 5:\n",
    "                break\n",
    "            else:\n",
    "                print(' . ', end='')\n",
    "    \n",
    "    print('score: ',score)\n",
    "    print(end=\"\\r\")   \n",
    "    harf = input()\n",
    "    if harf == 's':\n",
    "       y=y+ 1\n",
    "    elif harf == 'w':\n",
    "       y=y-1\n",
    "    elif harf == 'a':\n",
    "       x =x-1\n",
    "    elif harf == 'd':\n",
    "       x =x+1"
   ]
  },
  {
   "cell_type": "code",
   "execution_count": null,
   "id": "5cc6092c-46be-4603-9ebf-9592b5eb4af7",
   "metadata": {},
   "outputs": [],
   "source": []
  }
 ],
 "metadata": {
  "kernelspec": {
   "display_name": "Python 3 (ipykernel)",
   "language": "python",
   "name": "python3"
  },
  "language_info": {
   "codemirror_mode": {
    "name": "ipython",
    "version": 3
   },
   "file_extension": ".py",
   "mimetype": "text/x-python",
   "name": "python",
   "nbconvert_exporter": "python",
   "pygments_lexer": "ipython3",
   "version": "3.12.4"
  }
 },
 "nbformat": 4,
 "nbformat_minor": 5
}
